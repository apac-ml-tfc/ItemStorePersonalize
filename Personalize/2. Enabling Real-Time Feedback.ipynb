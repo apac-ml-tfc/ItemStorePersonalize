{
 "cells": [
  {
   "cell_type": "markdown",
   "metadata": {},
   "source": [
    "# Enabling Real-Time Feedback\n",
    "\n",
    "A major benefit of dynamic neural models over, say, traditional collaborative filtering systems is that our recommendations can respond to a user's actions in the session.\n",
    "\n",
    "Our CloudFormation stack has already laid down the infrastructure for the website to report click (product view) events, so in this notebook we review the actions in Amazon Personalize to enable real-time event tracking.\n",
    "\n",
    "## An important note on accuracy\n",
    "\n",
    "The public [UCSD datasets](https://nijianmo.github.io/amazon/index.html) used for this data comprise **reviews**, which are more sparse than purchase data and **a lot more sparse** than *page views* - which is how the models are being presented in the website.\n",
    "\n",
    "Because of this, we need to bear in mind that even as we make more improvements to our solution, the recommendations might sometimes seem a little odd at first glance..."
   ]
  },
  {
   "cell_type": "markdown",
   "metadata": {},
   "source": [
    "## Getting started\n",
    "\n",
    "first up we'll load some variables that were stored by notebook 1, and create a Personalize API client as we did before:"
   ]
  },
  {
   "cell_type": "code",
   "execution_count": null,
   "metadata": {},
   "outputs": [],
   "source": [
    "%load_ext autoreload\n",
    "%autoreload 2\n",
    "\n",
    "import os\n",
    "import boto3  # AWS SDK for Python\n",
    "import util  # Our local /util library as used in the first notebook\n",
    "\n",
    "%store -r project_name\n",
    "%store -r role_arn\n",
    "%store -r dataset_group_arn\n",
    "%store -r up_campaign_arn\n",
    "\n",
    "personalize = boto3.client(\"personalize\")\n",
    "\n",
    "project_config = util.project.get_config(project_name)\n",
    "print(f\"\\nConfig for project '{project_name}':\\n{project_config}\")"
   ]
  },
  {
   "cell_type": "markdown",
   "metadata": {},
   "source": [
    "## Creating the Event Tracker\n",
    "\n",
    "We create an **Event Tracker** via the Personalize API, which will get us a **Tracking ID** with which live events can be recorded at runtime.\n",
    "\n",
    "**Note that each Dataset Group can have only one Event Tracker**: We don't need to worry about separate tracking IDs to record events for different deployed campaigns in the same dataset group. Our website stack is set up to expect a single tracking ID only."
   ]
  },
  {
   "cell_type": "code",
   "execution_count": null,
   "metadata": {},
   "outputs": [],
   "source": [
    "try:\n",
    "    create_tracker_response = personalize.create_event_tracker(\n",
    "        name=f\"{project_name}-tracker\",\n",
    "        datasetGroupArn=dataset_group_arn\n",
    "    )\n",
    "\n",
    "    event_tracker_arn = create_tracker_response[\"eventTrackerArn\"]\n",
    "    tracking_id = create_tracker_response[\"trackingId\"]\n",
    "    print(f\"Created tracker\\nARN: {event_tracker_arn}\\nTracking ID: {tracking_id}\")\n",
    "except personalize.exceptions.ResourceAlreadyExistsException as err:\n",
    "    print(\"Event Tracker already exists - scraping ARN from error message\")\n",
    "    msg = err.response[\"Error\"][\"Message\"]\n",
    "    event_tracker_arn = msg[msg.index(\"arn:aws:personalize\"):].partition(\" \")[0]\n",
    "    description = personalize.describe_event_tracker(eventTrackerArn=event_tracker_arn)\n",
    "    print(description)\n",
    "    tracking_id = description[\"eventTracker\"][\"trackingId\"]\n",
    "    print(f\"Existing tracker\\nARN: {event_tracker_arn}\\nTracking ID: {tracking_id}\")"
   ]
  },
  {
   "cell_type": "markdown",
   "metadata": {},
   "source": [
    "## Configuring the Tracking ID in the website\n",
    "\n",
    "The website is already set up to:\n",
    "\n",
    "- Collect click (view) events from the front end and publish them to a [Kinesis Stream](https://aws.amazon.com/kinesis/data-streams/)\n",
    "- Process incoming data on the Kinesis stream with the `xxx-PostClickEvent` **Lambda Function**, which will\n",
    "- Record the events to the configured (via environment variable) Personalize Tracking ID.\n",
    "\n",
    "So once our tracking ID is set up, it really is as straightforward as updating an environment variable on our Lambda function, to start pushing live events through:"
   ]
  },
  {
   "cell_type": "code",
   "execution_count": null,
   "metadata": {},
   "outputs": [],
   "source": [
    "util.lambdafn.update_lambda_envvar(project_config.events_lambda_arn, \"TRACKING_ID\", tracking_id)"
   ]
  },
  {
   "cell_type": "markdown",
   "metadata": {},
   "source": [
    "## That's pretty much it!\n",
    "\n",
    "The best way to see the results in action is to **click around the website as a logged-in user whose ID is present in the dataset**. If your user sees different homepage recommendations to the default/anonymous (an indicator they were recognised), then you should start to see recommendations change as you browse around the items.\n",
    "\n",
    "Just like requesting recommendations uses the [personalize-runtime SDK](https://boto3.amazonaws.com/v1/documentation/api/latest/reference/services/personalize-runtime.html) (slightly different from the [personalize SDK](https://boto3.amazonaws.com/v1/documentation/api/latest/reference/services/personalize.html) for managing models), event logging uses the [personalize-events SDK](https://boto3.amazonaws.com/v1/documentation/api/latest/reference/services/personalize-events.html).\n",
    "\n",
    "The flow is simple enough, with just one [`put_events()`](https://boto3.amazonaws.com/v1/documentation/api/latest/reference/services/personalize-events.html#PersonalizeEvents.Client.put_events) method to look out for. See the implementation of the `{stackname}-PostClickEvent` function from the [Lambda Console](https://console.aws.amazon.com/lambda/home?#/functions) for full details!"
   ]
  },
  {
   "cell_type": "code",
   "execution_count": null,
   "metadata": {},
   "outputs": [],
   "source": [
    "# As before, you could de-activate tracking again on the website like this:\n",
    "# update_lambda_envvar(\n",
    "#     project_config.events_lambda_arn,\n",
    "#     \"TRACKING_ID\",\n",
    "#     \"\"\n",
    "# )"
   ]
  },
  {
   "cell_type": "markdown",
   "metadata": {},
   "source": [
    "## (Optional): Simulating user behaviour\n",
    "\n",
    "It's also possible for us to use the personalize-events SDK **here in the notebook** to see how a user's recommendations will change after events are recorded.\n",
    "\n",
    "We'll start by setting up a session dictionary (so repeated experiments with the same user carry over) and defining the function to send dummy click events to Personalize:"
   ]
  },
  {
   "cell_type": "code",
   "execution_count": null,
   "metadata": {},
   "outputs": [],
   "source": [
    "from collections import defaultdict\n",
    "import json\n",
    "import time\n",
    "import uuid\n",
    "\n",
    "personalize_events = boto3.client(\"personalize-events\")\n",
    "session_dict = defaultdict(uuid.uuid1) # Dict from user ID to first-fetch-randomized session ID\n",
    "\n",
    "def send_interaction(user_id, item_id):\n",
    "    \"\"\"Send a user-item interaction to Amazon Personalize\"\"\"\n",
    "    session_id = session_dict[user_id]\n",
    "\n",
    "    return personalize_events.put_events(\n",
    "        trackingId=tracking_id,  # From earlier\n",
    "        userId=user_id,\n",
    "        sessionId=str(session_id),\n",
    "        eventList=[{  # It's actually a batch operation, but we're sending one at a time\n",
    "            \"sentAt\": int(time.time()),\n",
    "            \"eventType\": \"EVENT_TYPE\",\n",
    "            \"properties\": json.dumps({\n",
    "                \"itemId\": str(item_id),\n",
    "            }),\n",
    "        }],\n",
    "    )"
   ]
  },
  {
   "cell_type": "markdown",
   "metadata": {},
   "source": [
    "Next, we pick a user ID to play with:"
   ]
  },
  {
   "cell_type": "code",
   "execution_count": null,
   "metadata": {},
   "outputs": [],
   "source": [
    "import random\n",
    "\n",
    "n_users = 0\n",
    "sample_user = None\n",
    "\n",
    "for user in util.dataformat.data_folder_reader(\"data/raw/users\"):\n",
    "    # Reservoir sampling R-algorithm (simple, non-optimal) with k=1:\n",
    "    n_users += 1\n",
    "    if random.randint(1, n_users) <= 1:\n",
    "        sample_user = user\n",
    "\n",
    "user_id = util.dataformat.get_user_id(sample_user)\n",
    "print(f\"Testing with user ID {user_id} ({user.get('firstName', '???')} {user.get('lastName', '???')})\")"
   ]
  },
  {
   "cell_type": "markdown",
   "metadata": {},
   "source": [
    "Then we'll build up a dictionary from item ID to readable title (so we can make any sense of the results), and pick a list of one or more items to interact with:"
   ]
  },
  {
   "cell_type": "code",
   "execution_count": null,
   "metadata": {},
   "outputs": [],
   "source": [
    "# Configure number of interactions here:\n",
    "n_interactions = 3\n",
    "\n",
    "import pandas as pd\n",
    "\n",
    "item_titles = {}\n",
    "n_items = 0\n",
    "interaction_items = []\n",
    "\n",
    "for item in util.dataformat.data_folder_reader(\"data/raw/items\"):\n",
    "    n_items += 1\n",
    "    item_titles[util.dataformat.get_item_id(item)] = util.dataformat.get_item_title(item)\n",
    "\n",
    "    # Reservoir sampling R-algorithm (simple, non-optimal) with k=1:\n",
    "    if n_items <= n_interactions:\n",
    "        # Fill up the reservoir first:\n",
    "        interaction_items.append(util.dataformat.get_item_id(item))\n",
    "    else:\n",
    "        # Randomly resample for remainder of data:\n",
    "        i = random.randint(n_interactions, n_items)\n",
    "        if i <= n_interactions:\n",
    "            interaction_items[i - 1] = util.dataformat.get_item_id(item)\n",
    "\n",
    "print(f\"\\nGot {n_items} items total ({len(item_titles)} unique IDs)\")\n",
    "print(\"Interacting with items:\")\n",
    "pd.concat(\n",
    "    [\n",
    "        pd.Series(interaction_items, name=\"Item ID\"),\n",
    "        pd.Series([item_titles[iid] for iid in interaction_items], name=\"Title\")\n",
    "    ],\n",
    "    axis=1\n",
    ")"
   ]
  },
  {
   "cell_type": "markdown",
   "metadata": {},
   "source": [
    "We now have everything ready for our simulation:\n",
    "\n",
    "* The user ID to impersonate\n",
    "* The list of item IDs to interact with, in order\n",
    "* The Tracking ID for our dataset group, obtained earlier\n",
    "* The campaign ARN for our target recommendation model (the basic one from notebook 1)\n",
    "* A session ID randomly generated for us once for each user we test with\n",
    "\n",
    "All that's left is to simulate the interactions, and visualize the recommendations before and after:"
   ]
  },
  {
   "cell_type": "code",
   "execution_count": null,
   "metadata": {},
   "outputs": [],
   "source": [
    "# TODO: Factor user and item loading logic, and item title display logic, into utilities shared with 1.\n",
    "import pandas as pd\n",
    "\n",
    "personalize_runtime = boto3.client(\"personalize-runtime\")\n",
    "\n",
    "# Fetch the initial recommendations:\n",
    "initial_recs = [\n",
    "    item_titles[item[\"itemId\"]]\n",
    "    for item in personalize_runtime.get_recommendations(\n",
    "        campaignArn=up_campaign_arn,\n",
    "        userId=str(user_id),\n",
    "    )[\"itemList\"]\n",
    "]\n",
    "\n",
    "# Send the interactions:\n",
    "print(\"Simulating interactions...\")\n",
    "for item_id in interaction_items:\n",
    "    send_interaction(user_id, item_id)\n",
    "    time.sleep(3)  # Include a little bit of delay to be semi-realistic at least\n",
    "\n",
    "# Fetch the final recommendations:\n",
    "print(\"Fetching results...\")\n",
    "final_recs = [\n",
    "    item_titles[item[\"itemId\"]]\n",
    "    for item in personalize_runtime.get_recommendations(\n",
    "        campaignArn=up_campaign_arn,\n",
    "        userId=str(user_id),\n",
    "    )[\"itemList\"]\n",
    "]\n",
    "\n",
    "pd.concat(\n",
    "    [\n",
    "        pd.Series(initial_recs, name=\"Initial Recommendations\"),\n",
    "        pd.Series(final_recs, name=\"Final Recommendations\"),\n",
    "    ],\n",
    "    axis=1\n",
    ").head(15)"
   ]
  },
  {
   "cell_type": "markdown",
   "metadata": {},
   "source": [
    "## Filtering Recommendations\n",
    "\n",
    "As well as the real-time event feedback above, it's also possible to use the [incremental Users and Items update APIs](https://docs.aws.amazon.com/personalize/latest/dg/incremental-data-updates.html) to feed metadata updates into Personalize in near-real-time.\n",
    "\n",
    "Keeping the Personalize datasets up-to-date allows us to use the [filtering functionality](https://docs.aws.amazon.com/personalize/latest/dg/filter.html) in Personalize much more effectively.\n",
    "\n",
    "Below, we define two static **filter expressions** which can be referenced when generating recommendations - to optionally restrict results to:\n",
    "\n",
    "- Only items the user has already interacted with in the past (for `buy-again`), or\n",
    "- Only items the user has not interacted with before (for `fresh`)"
   ]
  },
  {
   "cell_type": "code",
   "execution_count": null,
   "metadata": {},
   "outputs": [],
   "source": [
    "create_buy_again_filter_resp = personalize.create_filter(\n",
    "    name=\"buy-again\",\n",
    "    datasetGroupArn=dataset_group_arn,\n",
    "    filterExpression='INCLUDE ItemID WHERE Interactions.event_type IN (\"*\")',\n",
    ")\n",
    "\n",
    "create_fresh_filter_resp = personalize.create_filter(\n",
    "    name=\"fresh\",\n",
    "    datasetGroupArn=dataset_group_arn,\n",
    "    filterExpression='EXCLUDE ItemID WHERE Interactions.event_type IN (\"*\")',\n",
    ")"
   ]
  },
  {
   "cell_type": "markdown",
   "metadata": {},
   "source": [
    "Once created on the dataset group (regardless of whether real-time event ingestion has been enabled), we can re-configure our website's API to offer these filtering options to users:"
   ]
  },
  {
   "cell_type": "code",
   "execution_count": null,
   "metadata": {},
   "outputs": [],
   "source": [
    "util.lambdafn.update_lambda_envvar(\n",
    "    project_config.getrecs_lambda_arn,\n",
    "    \"FILTER_BUY_AGAIN_ARN\",\n",
    "    create_buy_again_filter_resp[\"filterArn\"],\n",
    ")\n",
    "util.lambdafn.update_lambda_envvar(\n",
    "    project_config.getrecs_lambda_arn,\n",
    "    \"FILTER_FRESH_ARN\",\n",
    "    create_fresh_filter_resp[\"filterArn\"],\n",
    ")"
   ]
  },
  {
   "cell_type": "code",
   "execution_count": null,
   "metadata": {},
   "outputs": [],
   "source": [
    "# Or, as usual, you can disable the filters again as follows:\n",
    "# util.lambdafn.update_lambda_envvar(\n",
    "#     project_config.getrecs_lambda_arn,\n",
    "#     \"FILTER_BUY_AGAIN_ARN\",\n",
    "#     \"\",\n",
    "# )\n",
    "# util.lambdafn.update_lambda_envvar(\n",
    "#     project_config.getrecs_lambda_arn,\n",
    "#     \"FILTER_FRESH_ARN\",\n",
    "#     \"\",\n",
    "# )"
   ]
  },
  {
   "cell_type": "markdown",
   "metadata": {},
   "source": [
    "Once the filters have been activated, you'll see an additional dropdown option on the home-page to further filter your results.\n",
    "\n",
    "Although the above filter expressions are quite basic, the [filter expressions documentation](https://docs.aws.amazon.com/personalize/latest/dg/filter-expressions.html) shows many more examples including dynamically parameterized filters, and filters combining various criteria on items, users, and the interactions themselves. We'll revisit this topic in a later notebook our models have been updated to capture item metadata."
   ]
  },
  {
   "cell_type": "code",
   "execution_count": null,
   "metadata": {},
   "outputs": [],
   "source": []
  }
 ],
 "metadata": {
  "kernelspec": {
   "display_name": "conda_python3",
   "language": "python",
   "name": "conda_python3"
  },
  "language_info": {
   "codemirror_mode": {
    "name": "ipython",
    "version": 3
   },
   "file_extension": ".py",
   "mimetype": "text/x-python",
   "name": "python",
   "nbconvert_exporter": "python",
   "pygments_lexer": "ipython3",
   "version": "3.6.10"
  }
 },
 "nbformat": 4,
 "nbformat_minor": 4
}
